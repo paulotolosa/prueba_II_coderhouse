{
  "nbformat": 4,
  "nbformat_minor": 0,
  "metadata": {
    "colab": {
      "provenance": [],
      "authorship_tag": "ABX9TyNUIWtc+YsZC2u2rw5DXcsz",
      "include_colab_link": true
    },
    "kernelspec": {
      "name": "python3",
      "display_name": "Python 3"
    },
    "language_info": {
      "name": "python"
    }
  },
  "cells": [
    {
      "cell_type": "markdown",
      "metadata": {
        "id": "view-in-github",
        "colab_type": "text"
      },
      "source": [
        "<a href=\"https://colab.research.google.com/github/paulotolosa/prueba_II_coderhouse/blob/main/Proyecto_ParteIII_Tolosa.ipynb\" target=\"_parent\"><img src=\"https://colab.research.google.com/assets/colab-badge.svg\" alt=\"Open In Colab\"/></a>"
      ]
    },
    {
      "cell_type": "markdown",
      "source": [
        "\tDESCRIPCION DEL PROYECTO\n",
        "Este proyecto se centra en el análisis de un conjunto de datos que contiene información relevante sobre pacientes, incluyendo variables como el número de embarazos, niveles de glucosa en sangre, presión arterial, grosor de la piel, niveles de insulina, índice de masa corporal (BMI), función de antecedentes de diabetes, edad y el resultado de la prueba de diabetes. La motivación detrás de este análisis radica en la importancia de comprender los factores que contribuyen al desarrollo de la diabetes y cómo estas variables pueden influir en el resultado de la prueba de diabetes.\n",
        "Este conocimiento puede ser invaluable para la prevención, diagnóstico y tratamiento de la enfermedad.\n",
        "La audiencia que podría beneficiarse de este análisis incluye profesionales de la salud, investigadores en el campo de la diabetes, así como organizaciones y políticas de salud pública orientadas a la prevención y tratamiento de la enfermedad.\n",
        "Además, los resultados de este análisis podrían ser útiles para el diseño de intervenciones personalizadas destinados a reducir la incidencia y el impacto de la diabetes en la población.\n",
        "\n",
        "\n",
        "\tPreguntas:\n",
        "\n",
        "•\t¿Cuál es la distribución de la variable de resultado (Outcome) en el conjunto de datos?\n",
        "•\t¿Cuál es la relación entre el número de embarazos (Pregnancies) y el riesgo de diabetes?\n",
        "•\t¿Existe una asociación entre los niveles de glucosa en sangre (Glucose) y la presión arterial (BloodPressure)?\n",
        "•\t¿Cómo varía el grosor de la piel (SkinThickness) en función del índice de masa corporal (BMI)?\n",
        "•\t¿Cuál es la relación entre los niveles de insulina (Insulin) y la función de pedigree de diabetes (DiabetesPedigreeFunction)?\n",
        "•\t¿Hay una relación entre la edad (Age) y el riesgo de diabetes?\n",
        "•\t¿Cuáles son las características más importantes que contribuyen a predecir el resultado de la prueba de diabetes?\n",
        "\n",
        "\n",
        "\n",
        "\n",
        "\tHipótesis:\n",
        "\n",
        "•\tHipótesis nula: No hay diferencia significativa en los niveles de glucosa en sangre entre pacientes con resultado positivo y negativo en la prueba de diabetes.\n",
        "\n",
        "•\tHipótesis alternativa: Los pacientes con un mayor número de embarazos tienen un mayor riesgo de resultado positivo en la prueba de diabetes.\n",
        "\n",
        "•\tHipótesis nula: No hay asociación entre el índice de masa corporal (BMI) y el grosor de la piel (SkinThickness).\n",
        "\n",
        "•\tHipótesis alternativa: Los pacientes con un mayor índice de masa corporal (BMI) tienden a tener un grosor de piel más alto.\n",
        "\n",
        "•\tHipótesis nula: No hay diferencia significativa en los niveles de insulina entre pacientes con resultado positivo y negativo en la prueba de diabetes.\n",
        "\n",
        "•\tHipótesis alternativa: La función de pedigree de diabetes (DiabetesPedigreeFunction) está positivamente correlacionada con la edad (Age).\n",
        "\n",
        "•\tHipótesis nula: No hay diferencia significativa en las características entre los grupos de pacientes con resultado positivo y negativo en la prueba de diabetes.\n",
        "\n",
        "\n",
        "\n",
        "\n",
        "\tESTRUCTURA DEL PROYECTO\n",
        "\n",
        "Exploración de Datos\n",
        "1.\tPreprocesamiento de Datos:\n",
        "\n",
        "•\tAnálisis preliminar de la calidad de los datos (valores faltantes, valores atípicos, etc.)\n",
        "\n",
        "•\tLimpieza de datos: manejo de valores faltantes, detección y corrección de errores, eliminación de duplicados, etc.\n",
        "\n",
        "•\tTransformación de datos: normalización, codificación de variables categóricas, etc.\n",
        "\n",
        "2.\tAnálisis Exploratorio de Datos (EDA):\n",
        "\n",
        "•\tVisualización de datos: gráficos de distribución, diagramas de dispersión, histogramas, etc., para explorar la relación entre las variables.\n",
        "\n",
        "•\tAnálisis estadístico descriptivo: resumen estadístico de las variables, identificación de tendencias y patrones.\n",
        "\n",
        "3.\tModelado Predictivo:\n",
        "\n",
        "•\tDivisión del conjunto de datos en conjuntos de entrenamiento y prueba.\n",
        "•\tSelección y entrenamiento de modelos predictivos (por ejemplo, regresión logística, árboles de decisión, etc.).\n",
        "•\tEvaluación del rendimiento del modelo utilizando métricas como precisión, sensibilidad, especificidad, etc.\n",
        "\n",
        "4.\tInterpretación de Resultados:\n",
        "\n",
        "•\tInterpretación de los hallazgos del análisis exploratorio y del modelado predictivo.\n",
        "\n",
        "•\tDiscusión sobre la relevancia clínica de los resultados y posibles implicaciones para la práctica\n"
      ],
      "metadata": {
        "id": "LstnRJW0ClUS"
      }
    },
    {
      "cell_type": "code",
      "source": [
        "import pandas as pd\n",
        "\n",
        "# URL directa al archivo CSV en GitHub\n",
        "url = 'https://raw.githubusercontent.com/paulotolosa/prueba_II_coderhouse/main/diabetes.csv'\n",
        "\n",
        "# Importar el archivo CSV en un DataFrame de pandas\n",
        "df = pd.read_csv(url)\n",
        "\n",
        "# Ver las primeras filas del DataFrame para asegurarse de que se importó correctamente\n",
        "print(df.head())\n"
      ],
      "metadata": {
        "colab": {
          "base_uri": "https://localhost:8080/"
        },
        "id": "2OViaC91CsR6",
        "outputId": "45d7b3c1-8264-4a58-bcd8-c6e60a7d9124"
      },
      "execution_count": 2,
      "outputs": [
        {
          "output_type": "stream",
          "name": "stdout",
          "text": [
            "   Pregnancies  Glucose  BloodPressure  SkinThickness  Insulin   BMI  \\\n",
            "0            2      138             62             35        0  33.6   \n",
            "1            0       84             82             31      125  38.2   \n",
            "2            0      145              0              0        0  44.2   \n",
            "3            0      135             68             42      250  42.3   \n",
            "4            1      139             62             41      480  40.7   \n",
            "\n",
            "   DiabetesPedigreeFunction  Age  Outcome  \n",
            "0                     0.127   47        1  \n",
            "1                     0.233   23        0  \n",
            "2                     0.630   31        1  \n",
            "3                     0.365   24        1  \n",
            "4                     0.536   21        0  \n"
          ]
        }
      ]
    },
    {
      "cell_type": "code",
      "source": [
        "# Calcular la matriz de correlación de Pearson\n",
        "correlation_matrix = df.corr()\n",
        "\n",
        "# Mostrar la matriz de correlación\n",
        "print(correlation_matrix)\n"
      ],
      "metadata": {
        "colab": {
          "base_uri": "https://localhost:8080/"
        },
        "id": "Z_FpzpFzK-W_",
        "outputId": "c9dd8eed-b96b-473d-9219-1324f8e09df7"
      },
      "execution_count": 6,
      "outputs": [
        {
          "output_type": "stream",
          "name": "stdout",
          "text": [
            "                          Pregnancies   Glucose  BloodPressure  SkinThickness  \\\n",
            "Pregnancies                  1.000000  0.120405       0.149672      -0.063375   \n",
            "Glucose                      0.120405  1.000000       0.138044       0.062368   \n",
            "BloodPressure                0.149672  0.138044       1.000000       0.198800   \n",
            "SkinThickness               -0.063375  0.062368       0.198800       1.000000   \n",
            "Insulin                     -0.076600  0.320371       0.087384       0.448859   \n",
            "BMI                          0.019475  0.226864       0.281545       0.393760   \n",
            "DiabetesPedigreeFunction    -0.025453  0.123243       0.051331       0.178299   \n",
            "Age                          0.539457  0.254496       0.238375      -0.111034   \n",
            "Outcome                      0.224437  0.458421       0.075958       0.076040   \n",
            "\n",
            "                           Insulin       BMI  DiabetesPedigreeFunction  \\\n",
            "Pregnancies              -0.076600  0.019475                 -0.025453   \n",
            "Glucose                   0.320371  0.226864                  0.123243   \n",
            "BloodPressure             0.087384  0.281545                  0.051331   \n",
            "SkinThickness             0.448859  0.393760                  0.178299   \n",
            "Insulin                   1.000000  0.223012                  0.192719   \n",
            "BMI                       0.223012  1.000000                  0.125719   \n",
            "DiabetesPedigreeFunction  0.192719  0.125719                  1.000000   \n",
            "Age                      -0.085879  0.038987                  0.026569   \n",
            "Outcome                   0.120924  0.276726                  0.155459   \n",
            "\n",
            "                               Age   Outcome  \n",
            "Pregnancies               0.539457  0.224437  \n",
            "Glucose                   0.254496  0.458421  \n",
            "BloodPressure             0.238375  0.075958  \n",
            "SkinThickness            -0.111034  0.076040  \n",
            "Insulin                  -0.085879  0.120924  \n",
            "BMI                       0.038987  0.276726  \n",
            "DiabetesPedigreeFunction  0.026569  0.155459  \n",
            "Age                       1.000000  0.236509  \n",
            "Outcome                   0.236509  1.000000  \n"
          ]
        }
      ]
    },
    {
      "cell_type": "markdown",
      "source": [
        "Calcular la Correlación de Pearson\n",
        "Primero, calcula la matriz de correlación de Pearson para entender las relaciones entre las variables en tu dataset. Esto te ayudará a identificar características altamente correlacionadas que podrías querer transformar o eliminar."
      ],
      "metadata": {
        "id": "T-PUYpR4PJ7B"
      }
    },
    {
      "cell_type": "code",
      "source": [
        "\n",
        "# Suponiendo que 'df' es tu dataframe\n",
        "correlation_matrix = df.corr()\n",
        "print(correlation_matrix)\n"
      ],
      "metadata": {
        "colab": {
          "base_uri": "https://localhost:8080/"
        },
        "id": "NaTkXXYrPEky",
        "outputId": "8867c5f5-e50f-4281-9f66-177dda6511d1"
      },
      "execution_count": 12,
      "outputs": [
        {
          "output_type": "stream",
          "name": "stdout",
          "text": [
            "                          Pregnancies   Glucose  BloodPressure  SkinThickness  \\\n",
            "Pregnancies                  1.000000  0.120405       0.149672      -0.063375   \n",
            "Glucose                      0.120405  1.000000       0.138044       0.062368   \n",
            "BloodPressure                0.149672  0.138044       1.000000       0.198800   \n",
            "SkinThickness               -0.063375  0.062368       0.198800       1.000000   \n",
            "Insulin                     -0.076600  0.320371       0.087384       0.448859   \n",
            "BMI                          0.019475  0.226864       0.281545       0.393760   \n",
            "DiabetesPedigreeFunction    -0.025453  0.123243       0.051331       0.178299   \n",
            "Age                          0.539457  0.254496       0.238375      -0.111034   \n",
            "Outcome                      0.224437  0.458421       0.075958       0.076040   \n",
            "\n",
            "                           Insulin       BMI  DiabetesPedigreeFunction  \\\n",
            "Pregnancies              -0.076600  0.019475                 -0.025453   \n",
            "Glucose                   0.320371  0.226864                  0.123243   \n",
            "BloodPressure             0.087384  0.281545                  0.051331   \n",
            "SkinThickness             0.448859  0.393760                  0.178299   \n",
            "Insulin                   1.000000  0.223012                  0.192719   \n",
            "BMI                       0.223012  1.000000                  0.125719   \n",
            "DiabetesPedigreeFunction  0.192719  0.125719                  1.000000   \n",
            "Age                      -0.085879  0.038987                  0.026569   \n",
            "Outcome                   0.120924  0.276726                  0.155459   \n",
            "\n",
            "                               Age   Outcome  \n",
            "Pregnancies               0.539457  0.224437  \n",
            "Glucose                   0.254496  0.458421  \n",
            "BloodPressure             0.238375  0.075958  \n",
            "SkinThickness            -0.111034  0.076040  \n",
            "Insulin                  -0.085879  0.120924  \n",
            "BMI                       0.038987  0.276726  \n",
            "DiabetesPedigreeFunction  0.026569  0.155459  \n",
            "Age                       1.000000  0.236509  \n",
            "Outcome                   0.236509  1.000000  \n"
          ]
        }
      ]
    },
    {
      "cell_type": "markdown",
      "source": [
        "Normalizar los Datos\n",
        "Antes de aplicar PCA, es importante normalizar tus datos, ya que PCA es sensible a las escalas de las variables."
      ],
      "metadata": {
        "id": "e_WEgayDPQV7"
      }
    },
    {
      "cell_type": "code",
      "source": [
        "from sklearn.preprocessing import StandardScaler\n",
        "\n",
        "# Separar características (X) y la variable objetivo (y)\n",
        "X = df.drop('Outcome', axis=1)\n",
        "y = df['Outcome']\n",
        "\n",
        "# Normalizar las características\n",
        "scaler = StandardScaler()\n",
        "X_scaled = scaler.fit_transform(X)\n"
      ],
      "metadata": {
        "id": "c_pXGKHQPUmg"
      },
      "execution_count": 13,
      "outputs": []
    },
    {
      "cell_type": "markdown",
      "source": [
        "Aplicar PCA\n",
        "Aplica PCA a los datos normalizados para reducir la dimensionalidad del dataset, mientras mantienes la mayor cantidad de varianza posible."
      ],
      "metadata": {
        "id": "ijNxRJDEPahD"
      }
    },
    {
      "cell_type": "code",
      "source": [
        "from sklearn.decomposition import PCA\n",
        "\n",
        "# Crear y ajustar el modelo PCA\n",
        "pca = PCA()\n",
        "X_pca = pca.fit_transform(X_scaled)\n"
      ],
      "metadata": {
        "id": "MYj7ihwGPbYv"
      },
      "execution_count": 14,
      "outputs": []
    },
    {
      "cell_type": "markdown",
      "source": [
        "Interpretar los Resultados de PCA\n",
        "Revisa la varianza explicada por cada componente principal para decidir cuántos componentes mantener."
      ],
      "metadata": {
        "id": "taXUFU6APgT3"
      }
    },
    {
      "cell_type": "code",
      "source": [
        "# Varianza explicada por cada componente principal\n",
        "explained_variance_ratio = pca.explained_variance_ratio_\n",
        "print(\"Varianza explicada por cada componente principal:\")\n",
        "print(explained_variance_ratio)\n"
      ],
      "metadata": {
        "colab": {
          "base_uri": "https://localhost:8080/"
        },
        "id": "dn45xtI7PhFs",
        "outputId": "bb72982f-fa97-409d-bf24-4ceb0e003fd6"
      },
      "execution_count": 15,
      "outputs": [
        {
          "output_type": "stream",
          "name": "stdout",
          "text": [
            "Varianza explicada por cada componente principal:\n",
            "[0.26153728 0.21691186 0.12691175 0.11048587 0.09574077 0.08415208\n",
            " 0.05415535 0.05010504]\n"
          ]
        }
      ]
    }
  ]
}