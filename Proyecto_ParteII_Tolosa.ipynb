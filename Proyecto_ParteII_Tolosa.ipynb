{
  "nbformat": 4,
  "nbformat_minor": 0,
  "metadata": {
    "colab": {
      "provenance": [],
      "authorship_tag": "ABX9TyMtjtUXfTpCWWKZ26M8O0Bo",
      "include_colab_link": true
    },
    "kernelspec": {
      "name": "python3",
      "display_name": "Python 3"
    },
    "language_info": {
      "name": "python"
    }
  },
  "cells": [
    {
      "cell_type": "markdown",
      "metadata": {
        "id": "view-in-github",
        "colab_type": "text"
      },
      "source": [
        "<a href=\"https://colab.research.google.com/github/paulotolosa/prueba_II_coderhouse/blob/main/Proyecto_ParteII_Tolosa.ipynb\" target=\"_parent\"><img src=\"https://colab.research.google.com/assets/colab-badge.svg\" alt=\"Open In Colab\"/></a>"
      ]
    },
    {
      "cell_type": "markdown",
      "source": [
        "Subir el archivo diabetes desde Github\n"
      ],
      "metadata": {
        "id": "LstnRJW0ClUS"
      }
    },
    {
      "cell_type": "code",
      "source": [
        "import pandas as pd\n",
        "\n",
        "# URL directa al archivo CSV en GitHub\n",
        "url = 'https://raw.githubusercontent.com/paulotolosa/prueba_II_coderhouse/main/diabetes.csv'\n",
        "\n",
        "# Importar el archivo CSV en un DataFrame de pandas\n",
        "df = pd.read_csv(url)\n",
        "\n",
        "# Ver las primeras filas del DataFrame para asegurarse de que se importó correctamente\n",
        "print(df.head())\n"
      ],
      "metadata": {
        "colab": {
          "base_uri": "https://localhost:8080/"
        },
        "id": "2OViaC91CsR6",
        "outputId": "95d0301b-f3a7-442d-ef1b-014be72602f5"
      },
      "execution_count": 2,
      "outputs": [
        {
          "output_type": "stream",
          "name": "stdout",
          "text": [
            "   Pregnancies  Glucose  BloodPressure  SkinThickness  Insulin   BMI  \\\n",
            "0            2      138             62             35        0  33.6   \n",
            "1            0       84             82             31      125  38.2   \n",
            "2            0      145              0              0        0  44.2   \n",
            "3            0      135             68             42      250  42.3   \n",
            "4            1      139             62             41      480  40.7   \n",
            "\n",
            "   DiabetesPedigreeFunction  Age  Outcome  \n",
            "0                     0.127   47        1  \n",
            "1                     0.233   23        0  \n",
            "2                     0.630   31        1  \n",
            "3                     0.365   24        1  \n",
            "4                     0.536   21        0  \n"
          ]
        }
      ]
    },
    {
      "cell_type": "markdown",
      "source": [
        "Examina las primeras filas para entender el formato de los datos y los tipos de variables presentes"
      ],
      "metadata": {
        "id": "jp7O-MkEFz2s"
      }
    },
    {
      "cell_type": "code",
      "source": [
        "print(df.dtypes)\n"
      ],
      "metadata": {
        "colab": {
          "base_uri": "https://localhost:8080/"
        },
        "id": "OeffV83EF4_3",
        "outputId": "4bfc002c-eda7-4ad4-ad40-9b84c932588f"
      },
      "execution_count": 3,
      "outputs": [
        {
          "output_type": "stream",
          "name": "stdout",
          "text": [
            "Pregnancies                   int64\n",
            "Glucose                       int64\n",
            "BloodPressure                 int64\n",
            "SkinThickness                 int64\n",
            "Insulin                       int64\n",
            "BMI                         float64\n",
            "DiabetesPedigreeFunction    float64\n",
            "Age                           int64\n",
            "Outcome                       int64\n",
            "dtype: object\n"
          ]
        }
      ]
    },
    {
      "cell_type": "markdown",
      "source": [
        "Resumen estadístico: Calcula estadísticas descriptivas básicas para cada variable, como la media, la mediana, la desviación estándar, los valores mínimo y máximo"
      ],
      "metadata": {
        "id": "VihfpGiKGDse"
      }
    },
    {
      "cell_type": "code",
      "source": [
        "print(df.describe())\n"
      ],
      "metadata": {
        "colab": {
          "base_uri": "https://localhost:8080/"
        },
        "id": "8cut23y6GHyg",
        "outputId": "0a3fabec-bb52-4b71-b473-4f4879742876"
      },
      "execution_count": 4,
      "outputs": [
        {
          "output_type": "stream",
          "name": "stdout",
          "text": [
            "       Pregnancies      Glucose  BloodPressure  SkinThickness      Insulin  \\\n",
            "count  2000.000000  2000.000000    2000.000000    2000.000000  2000.000000   \n",
            "mean      3.703500   121.182500      69.145500      20.935000    80.254000   \n",
            "std       3.306063    32.068636      19.188315      16.103243   111.180534   \n",
            "min       0.000000     0.000000       0.000000       0.000000     0.000000   \n",
            "25%       1.000000    99.000000      63.500000       0.000000     0.000000   \n",
            "50%       3.000000   117.000000      72.000000      23.000000    40.000000   \n",
            "75%       6.000000   141.000000      80.000000      32.000000   130.000000   \n",
            "max      17.000000   199.000000     122.000000     110.000000   744.000000   \n",
            "\n",
            "               BMI  DiabetesPedigreeFunction          Age      Outcome  \n",
            "count  2000.000000               2000.000000  2000.000000  2000.000000  \n",
            "mean     32.193000                  0.470930    33.090500     0.342000  \n",
            "std       8.149901                  0.323553    11.786423     0.474498  \n",
            "min       0.000000                  0.078000    21.000000     0.000000  \n",
            "25%      27.375000                  0.244000    24.000000     0.000000  \n",
            "50%      32.300000                  0.376000    29.000000     0.000000  \n",
            "75%      36.800000                  0.624000    40.000000     1.000000  \n",
            "max      80.600000                  2.420000    81.000000     1.000000  \n"
          ]
        }
      ]
    }
  ]
}